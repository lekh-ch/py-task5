{
  "nbformat": 4,
  "nbformat_minor": 0,
  "metadata": {
    "colab": {
      "provenance": [],
      "authorship_tag": "ABX9TyOM1Bp4pakKpYEPkUAyDOWY",
      "include_colab_link": true
    },
    "kernelspec": {
      "name": "python3",
      "display_name": "Python 3"
    },
    "language_info": {
      "name": "python"
    }
  },
  "cells": [
    {
      "cell_type": "markdown",
      "metadata": {
        "id": "view-in-github",
        "colab_type": "text"
      },
      "source": [
        "<a href=\"https://colab.research.google.com/github/lekh-ch/py-task5/blob/main/Untitled8.ipynb\" target=\"_parent\"><img src=\"https://colab.research.google.com/assets/colab-badge.svg\" alt=\"Open In Colab\"/></a>"
      ]
    },
    {
      "cell_type": "code",
      "execution_count": 1,
      "metadata": {
        "colab": {
          "base_uri": "https://localhost:8080/"
        },
        "id": "DQfyijcVPRT8",
        "outputId": "c1283c59-b4c8-4e72-d52b-8dd5c25f8eb4"
      },
      "outputs": [
        {
          "output_type": "stream",
          "name": "stdout",
          "text": [
            "Welcome to the Text Reverser!\n",
            "\n",
            "Choose an option:\n",
            "1. Reverse character order\n",
            "2. Reverse word order\n",
            "3. Exit\n",
            "\n",
            "Enter your choice: 1\n",
            "\n",
            "Enter the text: Hello World\n",
            "\n",
            "Reversed text: dlroW olleH\n",
            "\n",
            "Choose an option:\n",
            "1. Reverse character order\n",
            "2. Reverse word order\n",
            "3. Exit\n",
            "\n",
            "Enter your choice: 2\n",
            "\n",
            "Enter the text: This is new sentence\n",
            "\n",
            "Reversed text: sentence new is This\n",
            "\n",
            "Choose an option:\n",
            "1. Reverse character order\n",
            "2. Reverse word order\n",
            "3. Exit\n",
            "\n",
            "Enter your choice: 3\n",
            "\n",
            "Thank you for using the Text Reverser!\n"
          ]
        }
      ],
      "source": [
        "def reverse_characters(text):\n",
        "    \"\"\"Reverses the character order of the given text.\"\"\"\n",
        "    return text[::-1]\n",
        "\n",
        "def reverse_words(text):\n",
        "    \"\"\"Reverses the word order of the given text.\"\"\"\n",
        "    words = text.split()\n",
        "    return \" \".join(words[::-1])\n",
        "\n",
        "def main():\n",
        "    \"\"\"Main function to run the text reverser program.\"\"\"\n",
        "    print(\"Welcome to the Text Reverser!\")\n",
        "\n",
        "    while True:\n",
        "        print(\"\\nChoose an option:\")\n",
        "        print(\"1. Reverse character order\")\n",
        "        print(\"2. Reverse word order\")\n",
        "        print(\"3. Exit\")\n",
        "\n",
        "        choice = input(\"\\nEnter your choice: \")\n",
        "\n",
        "        if choice == \"1\":\n",
        "            text = input(\"\\nEnter the text: \")\n",
        "            reversed_text = reverse_characters(text)\n",
        "            print(f\"\\nReversed text: {reversed_text}\")\n",
        "\n",
        "        elif choice == \"2\":\n",
        "            text = input(\"\\nEnter the text: \")\n",
        "            reversed_text = reverse_words(text)\n",
        "            print(f\"\\nReversed text: {reversed_text}\")\n",
        "\n",
        "        elif choice == \"3\":\n",
        "            print(\"\\nThank you for using the Text Reverser!\")\n",
        "            break\n",
        "\n",
        "        else:\n",
        "            print(\"\\nInvalid choice. Please try again.\")\n",
        "\n",
        "if __name__ == \"__main__\":\n",
        "    main()"
      ]
    }
  ]
}